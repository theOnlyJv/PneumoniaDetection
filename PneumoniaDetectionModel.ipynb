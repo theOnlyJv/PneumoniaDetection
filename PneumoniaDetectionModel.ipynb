{
 "cells": [
  {
   "cell_type": "code",
   "execution_count": 3,
   "metadata": {},
   "outputs": [
    {
     "name": "stderr",
     "output_type": "stream",
     "text": [
      "Using TensorFlow backend.\n"
     ]
    }
   ],
   "source": [
    "#Preprocessing of Images\n",
    "import numpy as np\n",
    "import pandas as pd\n",
    "import matplotlib.pyplot as plt\n",
    "from keras.models import Sequential\n",
    "from keras.preprocessing.image import ImageDataGenerator\n",
    "from keras.layers import MaxPooling2D,Convolution2D,Dense,Dropout,Flatten"
   ]
  },
  {
   "cell_type": "code",
   "execution_count": 4,
   "metadata": {},
   "outputs": [
    {
     "name": "stdout",
     "output_type": "stream",
     "text": [
      "Found 5216 images belonging to 2 classes.\n",
      "Found 16 images belonging to 2 classes.\n"
     ]
    }
   ],
   "source": [
    "train_datagen=ImageDataGenerator(\n",
    "                       rescale=1./255,\n",
    "                       shear_range=0.2,\n",
    "                       zoom_range=0.2,\n",
    "                       )\n",
    "validation_datagen=ImageDataGenerator(\n",
    "                       rescale=1./255,\n",
    "                       shear_range=0.2,\n",
    "                       zoom_range=0.2,\n",
    "                       )\n",
    "test_datagen=ImageDataGenerator(rescale=1./255)\n",
    "training_set=train_datagen.flow_from_directory(\n",
    "                                                './chest_xray/train',\n",
    "                                                 target_size=(150,150),batch_size=32,class_mode='binary')\n",
    "validation_set=train_datagen.flow_from_directory(\n",
    "                                                './chest_xray/val',\n",
    "                                                 target_size=(150,150\n",
    "                                                             ),batch_size=32,class_mode='binary')                              \n",
    " "
   ]
  },
  {
   "cell_type": "code",
   "execution_count": 6,
   "metadata": {},
   "outputs": [
    {
     "name": "stdout",
     "output_type": "stream",
     "text": [
      "Model: \"sequential_2\"\n",
      "_________________________________________________________________\n",
      "Layer (type)                 Output Shape              Param #   \n",
      "=================================================================\n",
      "conv2d_4 (Conv2D)            (None, 146, 146, 32)      2432      \n",
      "_________________________________________________________________\n",
      "max_pooling2d_4 (MaxPooling2 (None, 73, 73, 32)        0         \n",
      "_________________________________________________________________\n",
      "conv2d_5 (Conv2D)            (None, 71, 71, 64)        18496     \n",
      "_________________________________________________________________\n",
      "max_pooling2d_5 (MaxPooling2 (None, 35, 35, 64)        0         \n",
      "_________________________________________________________________\n",
      "conv2d_6 (Conv2D)            (None, 33, 33, 128)       73856     \n",
      "_________________________________________________________________\n",
      "max_pooling2d_6 (MaxPooling2 (None, 16, 16, 128)       0         \n",
      "_________________________________________________________________\n",
      "flatten_2 (Flatten)          (None, 32768)             0         \n",
      "_________________________________________________________________\n",
      "dense_4 (Dense)              (None, 512)               16777728  \n",
      "_________________________________________________________________\n",
      "dense_5 (Dense)              (None, 128)               65664     \n",
      "_________________________________________________________________\n",
      "dense_6 (Dense)              (None, 1)                 129       \n",
      "=================================================================\n",
      "Total params: 16,938,305\n",
      "Trainable params: 16,938,305\n",
      "Non-trainable params: 0\n",
      "_________________________________________________________________\n"
     ]
    }
   ],
   "source": [
    "model=Sequential()\n",
    "model.add(Convolution2D(32,(5,5),activation='relu',input_shape=(150,150,3)))\n",
    "model.add(MaxPooling2D((2,2)))\n",
    "model.add(Convolution2D(64,(3,3),activation='relu',input_shape=(150,150,3)))\n",
    "model.add(MaxPooling2D((2,2)))\n",
    "model.add(Convolution2D(128,(3,3),activation='relu',input_shape=(150,150,3)))\n",
    "model.add(MaxPooling2D((2,2)))\n",
    "model.add(Flatten())\n",
    "model.add(Dense(512,activation='relu'))\n",
    "model.add(Dense(128,activation='relu'))\n",
    "model.add(Dense(1,activation='sigmoid'))\n",
    "model.summary()"
   ]
  },
  {
   "cell_type": "code",
   "execution_count": 7,
   "metadata": {},
   "outputs": [],
   "source": [
    "model.compile(optimizer='adam',loss='binary_crossentropy',metrics=['accuracy'])"
   ]
  },
  {
   "cell_type": "code",
   "execution_count": 8,
   "metadata": {},
   "outputs": [
    {
     "name": "stdout",
     "output_type": "stream",
     "text": [
      "Epoch 1/5\n",
      "1000/1000 [==============================] - 959s 959ms/step - loss: 0.2180 - accuracy: 0.9121 - val_loss: 1.6283 - val_accuracy: 0.6000\n",
      "Epoch 2/5\n",
      "1000/1000 [==============================] - 893s 893ms/step - loss: 0.1251 - accuracy: 0.9522 - val_loss: 0.5672 - val_accuracy: 0.7044\n",
      "Epoch 3/5\n",
      "1000/1000 [==============================] - 887s 887ms/step - loss: 0.0971 - accuracy: 0.9630 - val_loss: 0.4769 - val_accuracy: 0.7669\n",
      "Epoch 4/5\n",
      "1000/1000 [==============================] - 917s 917ms/step - loss: 0.0854 - accuracy: 0.9686 - val_loss: 0.1269 - val_accuracy: 0.8100\n",
      "Epoch 5/5\n",
      "1000/1000 [==============================] - 931s 931ms/step - loss: 0.0676 - accuracy: 0.9741 - val_loss: 0.5806 - val_accuracy: 0.8719\n"
     ]
    }
   ],
   "source": [
    "hist=model.fit_generator(training_set,steps_per_epoch=1000,epochs=5,validation_data=validation_set,validation_steps=100)"
   ]
  },
  {
   "cell_type": "code",
   "execution_count": 9,
   "metadata": {},
   "outputs": [
    {
     "data": {
      "image/png": "[encoded data removed]",
      "text/plain": [
       "<Figure size 432x288 with 1 Axes>"
      ]
     },
     "metadata": {
      "needs_background": "light"
     },
     "output_type": "display_data"
    }
   ],
   "source": [
    "plt.figure(0)\n",
    "plt.plot(hist.history['loss'],'g',label='Training Loss')\n",
    "plt.plot(hist.history['val_loss'],'b',label='Validation Loss')\n",
    "plt.legend()\n",
    "plt.show()"
   ]
  },
  {
   "cell_type": "code",
   "execution_count": 11,
   "metadata": {},
   "outputs": [
    {
     "data": {
      "image/png": "[encoded data removed]",
      "text/plain": [
       "<Figure size 432x288 with 1 Axes>"
      ]
     },
     "metadata": {
      "needs_background": "light"
     },
     "output_type": "display_data"
    }
   ],
   "source": [
    "plt.figure(0)\n",
    "plt.plot(hist.history['accuracy'],'g',label='Training Acc')\n",
    "plt.plot(hist.history['val_accuracy'],'b',label='Validation Acc')\n",
    "plt.show()"
   ]
  },
  {
   "cell_type": "code",
   "execution_count": null,
   "metadata": {},
   "outputs": [],
   "source": []
  }
 ],
 "metadata": {
  "kernelspec": {
   "display_name": "Python 3",
   "language": "python",
   "name": "python3"
  },
  "language_info": {
   "codemirror_mode": {
    "name": "ipython",
    "version": 3
   },
   "file_extension": ".py",
   "mimetype": "text/x-python",
   "name": "python",
   "nbconvert_exporter": "python",
   "pygments_lexer": "ipython3",
   "version": "3.7.4"
  }
 },
 "nbformat": 4,
 "nbformat_minor": 2
}
